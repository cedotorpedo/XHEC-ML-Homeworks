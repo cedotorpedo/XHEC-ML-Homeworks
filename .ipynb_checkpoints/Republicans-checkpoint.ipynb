{
 "cells": [
  {
   "cell_type": "code",
   "execution_count": 11,
   "metadata": {},
   "outputs": [],
   "source": [
    "import pandas as pd\n",
    "import matplotlib.pyplot as plt\n",
    "import numpy as np"
   ]
  },
  {
   "cell_type": "code",
   "execution_count": 12,
   "metadata": {
    "scrolled": true
   },
   "outputs": [
    {
     "data": {
      "text/html": [
       "<div>\n",
       "<style scoped>\n",
       "    .dataframe tbody tr th:only-of-type {\n",
       "        vertical-align: middle;\n",
       "    }\n",
       "\n",
       "    .dataframe tbody tr th {\n",
       "        vertical-align: top;\n",
       "    }\n",
       "\n",
       "    .dataframe thead th {\n",
       "        text-align: right;\n",
       "    }\n",
       "</style>\n",
       "<table border=\"1\" class=\"dataframe\">\n",
       "  <thead>\n",
       "    <tr style=\"text-align: right;\">\n",
       "      <th></th>\n",
       "      <th>Year</th>\n",
       "      <th>Sunspot_Count</th>\n",
       "      <th>Republican_Count</th>\n",
       "    </tr>\n",
       "  </thead>\n",
       "  <tbody>\n",
       "    <tr>\n",
       "      <td>0</td>\n",
       "      <td>1960</td>\n",
       "      <td>112.3</td>\n",
       "      <td>36</td>\n",
       "    </tr>\n",
       "    <tr>\n",
       "      <td>1</td>\n",
       "      <td>1962</td>\n",
       "      <td>37.6</td>\n",
       "      <td>34</td>\n",
       "    </tr>\n",
       "    <tr>\n",
       "      <td>2</td>\n",
       "      <td>1964</td>\n",
       "      <td>10.2</td>\n",
       "      <td>32</td>\n",
       "    </tr>\n",
       "    <tr>\n",
       "      <td>3</td>\n",
       "      <td>1966</td>\n",
       "      <td>47.0</td>\n",
       "      <td>36</td>\n",
       "    </tr>\n",
       "    <tr>\n",
       "      <td>4</td>\n",
       "      <td>1968</td>\n",
       "      <td>105.9</td>\n",
       "      <td>43</td>\n",
       "    </tr>\n",
       "  </tbody>\n",
       "</table>\n",
       "</div>"
      ],
      "text/plain": [
       "   Year  Sunspot_Count  Republican_Count\n",
       "0  1960          112.3                36\n",
       "1  1962           37.6                34\n",
       "2  1964           10.2                32\n",
       "3  1966           47.0                36\n",
       "4  1968          105.9                43"
      ]
     },
     "execution_count": 12,
     "metadata": {},
     "output_type": "execute_result"
    }
   ],
   "source": [
    "republicans = pd.read_csv(\n",
    "    \"year-sunspots-republicans.csv\",sep = \",\" ,comment = \"#\")\n",
    "republicans.head()"
   ]
  },
  {
   "cell_type": "markdown",
   "metadata": {},
   "source": [
    "# Exo 1  - Plotting"
   ]
  },
  {
   "cell_type": "code",
   "execution_count": 13,
   "metadata": {},
   "outputs": [
    {
     "data": {
      "image/png": "[encoded data removed]",
      "text/plain": [
       "<Figure size 576x288 with 2 Axes>"
      ]
     },
     "metadata": {
      "needs_background": "light"
     },
     "output_type": "display_data"
    }
   ],
   "source": [
    "fig, ax = plt.subplots(2,figsize=(8, 4))\n",
    "\n",
    "ax[0].scatter(republicans[\"Year\"],republicans[\"Sunspot_Count\"])\n",
    "\n",
    "ax[1].scatter(republicans[\"Year\"],republicans[\"Republican_Count\"])\n",
    "\n",
    "plt.tight_layout()\n",
    "plt.show()\n"
   ]
  },
  {
   "cell_type": "markdown",
   "metadata": {},
   "source": [
    "# Exo 2  - Scale"
   ]
  },
  {
   "cell_type": "code",
   "execution_count": 45,
   "metadata": {},
   "outputs": [],
   "source": [
    "years_scaled = (republicans[\"Year\"] - 1600)/40\n",
    "\n",
    "y_train_sunspot = republicans[\"Sunspot_Count\"]\n",
    "y_train_rep = republicans[\"Republican_Count\"]"
   ]
  },
  {
   "cell_type": "markdown",
   "metadata": {},
   "source": [
    "# Exo 3a - polynomial"
   ]
  },
  {
   "cell_type": "code",
   "execution_count": 66,
   "metadata": {},
   "outputs": [],
   "source": [
    "def polynomial_features(x, max_degree):\n",
    "\n",
    "    X = np.zeros((x.shape[0],max_degree+1))\n",
    "    for i in range(max_degree+1):\n",
    "        X[:,i] = x**(i+1)\n",
    "    features = X    \n",
    "    return features"
   ]
  },
  {
   "cell_type": "code",
   "execution_count": 67,
   "metadata": {},
   "outputs": [],
   "source": [
    "def exponential_features(x):\n",
    "\n",
    "    theta = np.arange(0,55,5)\n",
    "    # FILL HERE \n",
    "    X = np.zeros((x.shape[0],len(theta)))\n",
    "    for i in range(len(theta)):\n",
    "        X[:,i] = np.exp(-(40*x-theta[i])**2/25)\n",
    "    features = X    \n",
    "    return features"
   ]
  },
  {
   "cell_type": "code",
   "execution_count": 80,
   "metadata": {},
   "outputs": [],
   "source": [
    "def cos_features_small(x):\n",
    "    \n",
    "    X = np.zeros((x.shape[0],5))\n",
    "    for i in range(5):\n",
    "        X[:,i] = np.cos(x/(i+1))\n",
    "    features = X    \n",
    "    return features"
   ]
  },
  {
   "cell_type": "code",
   "execution_count": 81,
   "metadata": {},
   "outputs": [],
   "source": [
    "def cos_features_big(x):\n",
    "    \n",
    "    X = np.zeros((x.shape[0],25))\n",
    "    for i in range(25):\n",
    "        X[:,i] = np.cos(x/(i+1))\n",
    "    features = X    \n",
    "    return features"
   ]
  },
  {
   "cell_type": "code",
   "execution_count": 82,
   "metadata": {},
   "outputs": [],
   "source": [
    "def fit_least_square(X, y):\n",
    "    \n",
    "    w_star = np.linalg.solve(X.T@X,X.T@y)\n",
    "    y_hat = X@w_star\n",
    "    \n",
    "    return w_star, y_hat"
   ]
  },
  {
   "cell_type": "code",
   "execution_count": 83,
   "metadata": {},
   "outputs": [],
   "source": [
    "X_train_poly = polynomial_features(years_scaled, max_degree = 5)\n",
    "X_train_coss = cos_features_small(years_scaled)\n",
    "X_train_cosb = cos_features_big(years_scaled)"
   ]
  },
  {
   "cell_type": "code",
   "execution_count": 71,
   "metadata": {},
   "outputs": [],
   "source": [
    "w_s, y_hat_train_s = fit_least_square(X_train_poly, y_train_sunspot)\n",
    "w_r, y_hat_train_r = fit_least_square(X_train_poly, y_train_rep)\n",
    "\n",
    "w_s_cos, y_hat_train_s_coss = fit_least_square(X_train_coss, y_train_sunspot)\n",
    "w_r_cos, y_hat_train_r_coss = fit_least_square(X_train_coss, y_train_rep)\n"
   ]
  },
  {
   "cell_type": "code",
   "execution_count": 20,
   "metadata": {
    "scrolled": true
   },
   "outputs": [
    {
     "data": {
      "image/png": "[encoded data removed]",
      "text/plain": [
       "<Figure size 576x288 with 2 Axes>"
      ]
     },
     "metadata": {
      "needs_background": "light"
     },
     "output_type": "display_data"
    }
   ],
   "source": [
    "fig, ax = plt.subplots(2,figsize=(8, 4))\n",
    "\n",
    "ax[0].scatter(republicans[\"Year\"],republicans[\"Sunspot_Count\"])\n",
    "ax[1].scatter(republicans[\"Year\"],republicans[\"Republican_Count\"])\n",
    "\n",
    "ax[0].plot(republicans[\"Year\"], y_hat_train_s)\n",
    "ax[1].plot(republicans[\"Year\"], y_hat_train_r)\n",
    "\n",
    "\n",
    "\n",
    "\n",
    "plt.tight_layout()\n",
    "plt.show()\n"
   ]
  }
 ],
 "metadata": {
  "kernelspec": {
   "display_name": "Python 3",
   "language": "python",
   "name": "python3"
  },
  "language_info": {
   "codemirror_mode": {
    "name": "ipython",
    "version": 3
   },
   "file_extension": ".py",
   "mimetype": "text/x-python",
   "name": "python",
   "nbconvert_exporter": "python",
   "pygments_lexer": "ipython3",
   "version": "3.7.4"
  }
 },
 "nbformat": 4,
 "nbformat_minor": 2
}
