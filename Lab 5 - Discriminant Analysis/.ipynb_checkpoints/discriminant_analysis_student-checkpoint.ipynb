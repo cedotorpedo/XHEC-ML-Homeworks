{
 "cells": [
  {
   "cell_type": "markdown",
   "metadata": {},
   "source": [
    "# Discriminant analysis"
   ]
  },
  {
   "cell_type": "code",
   "execution_count": 5,
   "metadata": {},
   "outputs": [],
   "source": [
    "import numpy as np\n",
    "from scipy.stats import multivariate_normal\n",
    "import matplotlib.pyplot as plt\n",
    "import seaborn as sns\n",
    "sns.set_theme()"
   ]
  },
  {
   "cell_type": "markdown",
   "metadata": {},
   "source": [
    "## Question 1\n",
    ">The `covariance` function makes it possible to build a $2 \\times 2$ covariance matrix based on spreads $\\sigma_1$ and $\\sigma_2$, and an angle $\\theta$."
   ]
  },
  {
   "cell_type": "code",
   "execution_count": 2,
   "metadata": {},
   "outputs": [],
   "source": [
    "def covariance(sigma1=1., sigma2=1., theta=0.):\n",
    "    \"\"\"\n",
    "        Covariance matrix with eigenvalues sigma1 and sigma2, rotated by the angle theta.\n",
    "    \"\"\"\n",
    "    rotation = np.array([[np.cos(theta), -np.sin(theta)],\n",
    "                        [np.sin(theta), np.cos(theta)]])\n",
    "    cov = np.array([[sigma1, 0.],\n",
    "                   [0, sigma2]])\n",
    "    return rotation.dot(cov.dot(rotation.T))"
   ]
  },
  {
   "cell_type": "code",
   "execution_count": 3,
   "metadata": {},
   "outputs": [
    {
     "name": "stdout",
     "output_type": "stream",
     "text": [
      "[[1. 0.]\n",
      " [0. 3.]]\n"
     ]
    }
   ],
   "source": [
    "print(covariance(sigma1=1, sigma2=3, theta=0))"
   ]
  },
  {
   "cell_type": "code",
   "execution_count": 4,
   "metadata": {},
   "outputs": [
    {
     "name": "stdout",
     "output_type": "stream",
     "text": [
      "[[ 2. -1.]\n",
      " [-1.  2.]]\n"
     ]
    }
   ],
   "source": [
    "print(covariance(sigma1=1, sigma2=3, theta=np.pi/4))"
   ]
  },
  {
   "cell_type": "markdown",
   "metadata": {},
   "source": [
    ">Either with the function `multivariate_normal` or with the Cholesky decomposition of a $2 \\times 2$ covariance matrix $\\Sigma$ (`L = np.linalg.cholesky(U)` produces a lower triangular matrix `L` such that `U = L @ L.T`), write a function that generates a multivariate Gaussian $n$-sample of mean $\\mu \\in \\mathbb R^2$ and covariance $\\Sigma$.\n",
    "The corresponding numpy array should be of size $(n, 2)$.\n",
    ">\n",
    ">Compute the mean and the empirical covariance of the sample using Numpy routines."
   ]
  },
  {
   "cell_type": "code",
   "execution_count": 11,
   "metadata": {},
   "outputs": [
    {
     "name": "stdout",
     "output_type": "stream",
     "text": [
      "Empirical mean: \n",
      " [-0.00019853 -0.05328065]\n",
      "Covariance:\n",
      " [[ 3.25       -3.89711432]\n",
      " [-3.89711432  7.75      ]]\n",
      "Empirical covariance:\n",
      " [[ 3.11106946 -3.78222229]\n",
      " [-3.78222229  7.48871843]]\n"
     ]
    }
   ],
   "source": [
    "# Answer\n",
    "def gaussian_sample(mu=[0, 0], sigma1=1., sigma2=1., theta=0., n=50):\n",
    "    # To do\n",
    "    \n",
    "    # X follows multinormal\n",
    "    cov = covariance(sigma1, sigma2, theta)\n",
    "    x = multivariate_normal.rvs(mean=mu, cov=cov, size=n)\n",
    "    # End to do\n",
    "    return x\n",
    "\n",
    "X = gaussian_sample(sigma1=1, sigma2=10, theta=np.pi/6, n=1000)\n",
    "# To do\n",
    "print(\"Empirical mean: \\n\",X.mean(axis=0))\n",
    "print(\"Covariance:\\n\", covariance(sigma1=1, sigma2=10, theta=np.pi/6))\n",
    "print(\"Empirical covariance:\\n\",np.cov(X.T))\n",
    "# End to do"
   ]
  },
  {
   "cell_type": "code",
   "execution_count": null,
   "metadata": {
    "collapsed": true
   },
   "outputs": [],
   "source": [
    "# Answer\n",
    "def gaussian_sample(mu=[0, 0], sigma1=1., sigma2=1., theta=0., n=50):\n",
    "    L = np.linalg.cholesky(covariance(sigma1, sigma2, theta))\n",
    "    x = (L @ np.random.randn(2, n)).T + np.array(mu)\n",
    "    return x\n",
    "\n",
    "# To do\n",
    "\n",
    "# End to do"
   ]
  },
  {
   "cell_type": "markdown",
   "metadata": {},
   "source": [
    "## Question 2\n",
    ">Generate two multivariate Gaussian samples of size $n_1 = n_2 = 50$ with different means and equal covariance matrices.\n",
    "Display both samples with different colors."
   ]
  },
  {
   "cell_type": "code",
   "execution_count": 12,
   "metadata": {},
   "outputs": [
    {
     "data": {
      "image/png": "[encoded data removed]",
      "text/plain": [
       "<Figure size 432x288 with 1 Axes>"
      ]
     },
     "metadata": {},
     "output_type": "display_data"
    }
   ],
   "source": [
    "# Answer\n",
    "# To do\n",
    "X1 = gaussian_sample(mu=[0,0])\n",
    "X2 = gaussian_sample(mu=[5,3])\n",
    "# End to do\n",
    "\n",
    "plt.scatter(*X1.T, label='Class 1')\n",
    "plt.scatter(*X2.T, label='Class 2')\n",
    "plt.legend();"
   ]
  },
  {
   "cell_type": "markdown",
   "metadata": {},
   "source": [
    "## Question 3\n",
    ">Based on the following code, implement a linear discriminant classifier, taking as parameters an $n \\times 2$ data matrix and a size-$n$ array of labels."
   ]
  },
  {
   "cell_type": "code",
   "execution_count": 13,
   "metadata": {},
   "outputs": [],
   "source": [
    "# Answer\n",
    "class LDA():\n",
    "    \"\"\"\n",
    "        LDA classifier for two classes.\n",
    "    \"\"\"\n",
    "    def __init__(self):\n",
    "        self.coef_ = None\n",
    "        self.intercept_ = None\n",
    "        \n",
    "    def fit(self, X, y):\n",
    "        # To do\n",
    "        indp, indn = y==y.max(), y==y.min()\n",
    "        pi = np.mean(indp) # prior prob estimation\n",
    "        #Estimate covariance matrix and means\n",
    "        cov = pi*np.cov(X[indp].T) + (1-pi)*np.cov(X[indn].T)\n",
    "        invcov = np.linalg.inv(cov)\n",
    "        mu1 = X[indp].mean(axis=0)\n",
    "        mu2 = X[indn].mean(axis=0)\n",
    "        #Comupute direction and intercept\n",
    "        self.coef_ = invcov.dot(mu1-mu2)\n",
    "        self.intercept_ = 0.5*(mu2.dot(invcov.dot(mu2)) - mu1.dot(invcov.dot(mu1))) + np.log(pi/(1-pi))\n",
    "        # End to do\n",
    "        return self\n",
    "\n",
    "    def decision_function(self, X):\n",
    "        # Compute decisions\n",
    "        decisions = X.dot(self.coef_) + self.intercept_\n",
    "        return decisions\n",
    "\n",
    "    def predict(self, X):\n",
    "        # Compute predictions\n",
    "        # To do\n",
    "        predictions = (self.decision_function(X) > 0)*2 - 1\n",
    "        # End to do\n",
    "        return predictions"
   ]
  },
  {
   "cell_type": "markdown",
   "metadata": {},
   "source": [
    ">Create the data matrix `X` and the array of lablels `y` based on the samples generated previously and fit a linear discriminant classifier.\n",
    "Plot the data and the decision frontiere with the function `plot_frontiere` (for instance with `plot_frontiere(lda, X, y)`)."
   ]
  },
  {
   "cell_type": "code",
   "execution_count": 14,
   "metadata": {},
   "outputs": [],
   "source": [
    "def plot_frontiere(clfs, data=None, data_labels=None, label=None, num=500, figure=True):\n",
    "    \"\"\"\n",
    "        Plot the frontiere fun(x)=0 of the classifier clf within the same range as the one\n",
    "        of the data.\n",
    "        Input:\n",
    "            clfs: classifier or list of classifiers\n",
    "            data: input data (X)\n",
    "            data_labels: data labels (y)\n",
    "            label: classifier labels as a list\n",
    "            num: discretization parameter\n",
    "            figure: create a new figure\n",
    "    \"\"\"\n",
    "    if not hasattr(clfs, '__iter__'):\n",
    "        clfs = [clfs]\n",
    "    if label is not None and not hasattr(label, '__iter__'):\n",
    "        label = [label]\n",
    "        \n",
    "    xmin, ymin = data.min(axis=0)\n",
    "    xmax, ymax = data.max(axis=0)\n",
    "    x, y = np.meshgrid(np.linspace(xmin, xmax, num), np.linspace(ymin, ymax))\n",
    "    \n",
    "    if figure:\n",
    "        plt.figure(figsize=(7, 7))\n",
    "#     plt.scatter(*data.T, c=data_labels, cmap='plasma')\n",
    "    for icl, cl in enumerate(np.unique(data_labels)):\n",
    "        plt.scatter(*data[data_labels==cl].T, label='Class {0:d}'.format(icl+1))\n",
    "        \n",
    "    for i, clf in enumerate(clfs):\n",
    "        z = clf.decision_function(np.c_[x.ravel(), y.ravel()]).reshape(x.shape)\n",
    "        cs = plt.contour(x, y, z, [0], colors='r')\n",
    "        if label is not None:\n",
    "            cs.levels = [label[i]]\n",
    "            plt.gca().clabel(cs)\n",
    "    if figure:\n",
    "        plt.axis('image')\n",
    "    minx, miny = data[:, 0].min(), data[:, 1].min()\n",
    "    diffx, diffy = data[:, 0].max() - minx, data[:, 1].max() - miny\n",
    "    plt.axis([minx - 0.1*diffx, minx + 1.1*diffx, miny - 0.1*diffy, miny + 1.1*diffy])\n",
    "    plt.legend(loc=\"best\")"
   ]
  },
  {
   "cell_type": "code",
   "execution_count": 16,
   "metadata": {},
   "outputs": [
    {
     "data": {
      "image/png": "[encoded data removed]",
      "text/plain": [
       "<Figure size 504x504 with 1 Axes>"
      ]
     },
     "metadata": {},
     "output_type": "display_data"
    }
   ],
   "source": [
    "# Answer\n",
    "X = np.r_[X1, X2]\n",
    "y = np.r_[np.ones(X1.shape[0]), -np.ones(X2.shape[0])]\n",
    "\n",
    "# To do\n",
    "lda = LDA()\n",
    "lda.fit(X,y)\n",
    "\n",
    "plot_frontiere(lda, X, y)\n",
    "# End to do"
   ]
  },
  {
   "cell_type": "markdown",
   "metadata": {},
   "source": [
    "## Question 4\n",
    ">Do the same with quadratic discriminant analysis.\n",
    "Then, compare LDA and QDA (you can use `plot_frontiere` with a list of classifiers, for instance `plot_frontiere([lda, qda], X, y, label=[\"LDA\", \"QDA\"])`)."
   ]
  },
  {
   "cell_type": "code",
   "execution_count": null,
   "metadata": {
    "collapsed": true
   },
   "outputs": [],
   "source": [
    "# Answer\n",
    "class QDA():\n",
    "    \"\"\"\n",
    "        QDA classifier for two classes.\n",
    "    \"\"\"\n",
    "    def __init__(self):\n",
    "        self.quad_ = None\n",
    "        self.coef_ = None\n",
    "        self.intercept_ = None\n",
    "        \n",
    "    def fit(self, X, y):\n",
    "        # To do\n",
    "\n",
    "        # End to do\n",
    "        return self\n",
    "\n",
    "    def decision_function(self, X):\n",
    "        # Compute decisions\n",
    "        decisions = 0.5*np.diag(X@self.quad_@X.T) + X@self.coef_ + self.intercept_\n",
    "        return decisions\n",
    "\n",
    "    def predict(self, X):\n",
    "        # Compute predictions\n",
    "        # To do\n",
    "\n",
    "        # End to do\n",
    "        return predictions"
   ]
  },
  {
   "cell_type": "code",
   "execution_count": null,
   "metadata": {
    "collapsed": true
   },
   "outputs": [],
   "source": [
    "# Answer"
   ]
  },
  {
   "cell_type": "markdown",
   "metadata": {},
   "source": [
    "## Question 5\n",
    ">Add a parameter `naiveBayes` (with default value `False`) to the class QDA and modify the latter in order to implement a Gaussian Naive Bayes classifier."
   ]
  },
  {
   "cell_type": "code",
   "execution_count": null,
   "metadata": {
    "collapsed": true
   },
   "outputs": [],
   "source": [
    "# Answer\n",
    "class QDA():\n",
    "    \"\"\"\n",
    "        QDA classifier for two classes.\n",
    "    \"\"\"\n",
    "    def __init__(self, naiveBayes=False):\n",
    "        self.quad_ = None\n",
    "        self.coef_ = None\n",
    "        self.intercept_ = None\n",
    "        self.naiveBayes = naiveBayes\n",
    "        \n",
    "    # To do\n",
    "\n",
    "    # End to do"
   ]
  },
  {
   "cell_type": "code",
   "execution_count": null,
   "metadata": {
    "collapsed": true
   },
   "outputs": [],
   "source": [
    "# Answer"
   ]
  },
  {
   "cell_type": "markdown",
   "metadata": {},
   "source": [
    "## Question 6\n",
    ">Analyze the behavior of LDA, QDA and Naive Bayes when they are faced to anisotropic Gaussian samples (in particular, check if the frontiere is the bisector of the line segment for which the extremities are both class centers), and then to Gaussian samples with different covariance matrices."
   ]
  },
  {
   "cell_type": "code",
   "execution_count": null,
   "metadata": {
    "collapsed": true
   },
   "outputs": [],
   "source": [
    "# Answer\n",
    "lda = LDA()\n",
    "qda = QDA()\n",
    "naive = QDA(naiveBayes=True)\n",
    "\n",
    "# Gassian parameters\n",
    "mu1 = mu = [0, 0]\n",
    "mu2 = [5, 3]\n",
    "\n",
    "plt.figure(figsize=(10, 20))\n",
    "for (p1, p2) in [((1, 1, 0), ) * 2,\n",
    "                  ((1, 5, 0), ) * 2,\n",
    "                  ((1, 5, np.pi/6), ) * 2,\n",
    "                  ((1, 5, 0), (5, 1, 0)),\n",
    "                  ((1, 5, 0), (5, 1, np.pi/3))]:\n",
    "    # Dataset\n",
    "    X1 = gaussian_sample(mu1, *p1)\n",
    "    X2 = gaussian_sample(mu2, *p2)\n",
    "    \n",
    "    # To do\n",
    "\n",
    "    # End to do\n",
    "    \n",
    "    # Plot class means\n",
    "    # Class means\n",
    "    mu1_emp = X[y==y.max()].mean(axis=0)\n",
    "    mu2_emp = X[y==y.min()].mean(axis=0)\n",
    "    plt.plot([mu1_emp[0], mu2_emp[0]], [mu1_emp[1], mu2_emp[1]], 'ko-')  # Plot the line between class means"
   ]
  },
  {
   "cell_type": "markdown",
   "metadata": {},
   "source": [
    "## Question 7\n",
    ">Compare methods on the following dataset (class $-1$ is not Gaussian)."
   ]
  },
  {
   "cell_type": "code",
   "execution_count": 17,
   "metadata": {},
   "outputs": [],
   "source": [
    "X1 = gaussian_sample(mu=[0, 0])\n",
    "X2 = gaussian_sample(mu=[5, 3], n=25)\n",
    "X3 = gaussian_sample(mu=[8, 9], n=25)\n",
    "\n",
    "X = np.r_[X1, X2, X3]\n",
    "y = np.r_[np.ones(X1.shape[0]), -np.ones(X2.shape[0]), -np.ones(X3.shape[0])]"
   ]
  },
  {
   "cell_type": "code",
   "execution_count": null,
   "metadata": {
    "collapsed": true
   },
   "outputs": [],
   "source": [
    "# Answer"
   ]
  },
  {
   "cell_type": "markdown",
   "metadata": {},
   "source": [
    "## Question 8\n",
    ">What about with this dataset (class $-1$ is Gaussian but with an outlier)?"
   ]
  },
  {
   "cell_type": "code",
   "execution_count": 19,
   "metadata": {},
   "outputs": [],
   "source": [
    "# Dataset\n",
    "X1 = gaussian_sample(mu=[0, 0])\n",
    "X2 = gaussian_sample(mu=[5, 3], n=49)\n",
    "X3 = gaussian_sample(mu=[20, 20], n=1).reshape(1, -1)\n",
    "\n",
    "X = np.r_[X1, X2, X3]\n",
    "y = np.r_[np.ones(X1.shape[0]), -np.ones(X2.shape[0]), -np.ones(X3.shape[0])]"
   ]
  },
  {
   "cell_type": "code",
   "execution_count": null,
   "metadata": {
    "collapsed": true
   },
   "outputs": [],
   "source": [
    "# Answer"
   ]
  },
  {
   "cell_type": "markdown",
   "metadata": {},
   "source": [
    "## Question 9\n",
    ">Implement a Naive Bayes classifier for data with a first explicative variable which is Gaussian and a second explicative variable which is Bernoulli distributed.\n",
    "Illustrate its proper functioning with the following dataset."
   ]
  },
  {
   "cell_type": "code",
   "execution_count": 21,
   "metadata": {},
   "outputs": [
    {
     "data": {
      "text/plain": [
       "<matplotlib.legend.Legend at 0x7fbe82a6b250>"
      ]
     },
     "execution_count": 21,
     "metadata": {},
     "output_type": "execute_result"
    },
    {
     "data": {
      "image/png": "[encoded data removed]",
      "text/plain": [
       "<Figure size 432x288 with 1 Axes>"
      ]
     },
     "metadata": {},
     "output_type": "display_data"
    }
   ],
   "source": [
    "n = 50\n",
    "X = np.r_[np.c_[np.random.randn(n//2)*2+3, np.random.binomial(1, .7, n//2)],\n",
    "          np.c_[np.random.randn(n//2)-1, np.random.binomial(1, .4, n//2)]]\n",
    "y = np.r_[np.ones(n//2), -np.ones(n//2)]\n",
    "\n",
    "plt.scatter(*X[y==-1].T, label='Class 1')\n",
    "plt.scatter(*X[y==1].T, label='Class 2')\n",
    "plt.legend()"
   ]
  },
  {
   "cell_type": "code",
   "execution_count": null,
   "metadata": {
    "collapsed": true
   },
   "outputs": [],
   "source": [
    "# Answer\n",
    "class GaussBerNB():\n",
    "    \"\"\"\n",
    "        Gaussian x Bernoulli Naive Bayes for two classes.\n",
    "    \"\"\"\n",
    "    def __init__(self):\n",
    "        self.quad_ = None\n",
    "        self.coef_ = None\n",
    "        self.intercept_ = None\n",
    "        \n",
    "    def fit(self, X, y):\n",
    "        # To do\n",
    "\n",
    "        # End to do\n",
    "        return self\n",
    "\n",
    "    def decision_function(self, X):\n",
    "        # Compute decisions\n",
    "        decisions = X[:, 0]**2 * self.quad_/2 + X@self.coef_ + self.intercept_\n",
    "        return decisions\n",
    "\n",
    "    def predict(self, X):\n",
    "        # Compute predictions\n",
    "        # Todo\n",
    "\n",
    "        # End todo\n",
    "        return predictions"
   ]
  },
  {
   "cell_type": "code",
   "execution_count": null,
   "metadata": {
    "collapsed": true
   },
   "outputs": [],
   "source": [
    "# Answer"
   ]
  },
  {
   "cell_type": "code",
   "execution_count": null,
   "metadata": {},
   "outputs": [],
   "source": []
  }
 ],
 "metadata": {
  "kernelspec": {
   "display_name": "Python 3 (ipykernel)",
   "language": "python",
   "name": "python3"
  },
  "language_info": {
   "codemirror_mode": {
    "name": "ipython",
    "version": 3
   },
   "file_extension": ".py",
   "mimetype": "text/x-python",
   "name": "python",
   "nbconvert_exporter": "python",
   "pygments_lexer": "ipython3",
   "version": "3.9.12"
  }
 },
 "nbformat": 4,
 "nbformat_minor": 4
}
