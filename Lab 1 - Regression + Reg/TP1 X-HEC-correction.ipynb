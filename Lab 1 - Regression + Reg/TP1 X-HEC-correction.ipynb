{
 "cells": [
  {
   "cell_type": "markdown",
   "id": "cross-devon",
   "metadata": {},
   "source": [
    "# Lab 1\n",
    "\n",
    "* Create sinusoidal data with gaussian noise\n",
    "* Create polynomial features (up to degree \"max_degree\")\n",
    "* Fit a linear model with least square regression\n",
    "* Introduce $l_2$ regularization\n",
    "* Use cross-validation to determine best  regularization coefficient\n",
    "* **Bonus :** Verify regularization coefficient scales linearly with dataset size"
   ]
  },
  {
   "cell_type": "code",
   "execution_count": 1,
   "id": "intensive-doctrine",
   "metadata": {},
   "outputs": [],
   "source": [
    "import numpy as np\n",
    "import matplotlib.pyplot as plt"
   ]
  },
  {
   "cell_type": "markdown",
   "id": "instructional-voice",
   "metadata": {},
   "source": [
    "## Creation of the datasets"
   ]
  },
  {
   "cell_type": "code",
   "execution_count": 2,
   "id": "legitimate-maintenance",
   "metadata": {},
   "outputs": [],
   "source": [
    "n_train = 1000\n",
    "n_test = 50"
   ]
  },
  {
   "cell_type": "code",
   "execution_count": 3,
   "id": "plain-performance",
   "metadata": {},
   "outputs": [],
   "source": [
    "def create_data(n_train, n_test, sigma=0.3):\n",
    "    \"\"\"\n",
    "    Create 2 random datasets (train and test) from the same distribution.\n",
    "    Both are 2D point clouds with a uniform sampling of the segment [0,2) for the x axis,\n",
    "    the y axis being a \"sinusoide + affine function + gaussian noise\".\n",
    "    \n",
    "    Parameters:\n",
    "        - n_train (int): size of the training set.\n",
    "        - n_test (int): size of the test set.\n",
    "        - sigma (float): std of the gaussian noise used.\n",
    "    Returns:\n",
    "        - data_train (tuple): the training data, tuple of arrays (x_train, y_train) of size n_train.\n",
    "        - data_test (tuple): the test data, tuple of arrays (x_test, y_test) of size n_test.\n",
    "    \"\"\"\n",
    "    # sample the 1st coordinate uniformaly\n",
    "    x_train = np.random.uniform(low=0.0, high=2.0, size=n_train)\n",
    "    x_train = np.sort(x_train)\n",
    "    x_test = np.random.uniform(low=0.0, high=2.0, size=n_test)\n",
    "    x_test = np.sort(x_test)\n",
    "    # additive gaussian noise\n",
    "    noise_train = sigma*np.random.randn(n_train)\n",
    "    noise_test = sigma*np.random.randn(n_test)\n",
    "    # sinusoide 2nd cooordinate\n",
    "    y_train = np.sin(2*np.pi*x_train) + noise_train\n",
    "    y_test = np.sin(2*np.pi*x_test) + noise_test\n",
    "    # add affine function\n",
    "    a , b = 2 , 1\n",
    "    y_train = a*x_train + b + y_train\n",
    "    y_test = a*x_test + b + y_test\n",
    "    # concatenante the 2D data\n",
    "    data_train = (x_train, y_train)\n",
    "    data_test = (x_test, y_test)\n",
    "    \n",
    "    return data_train, data_test"
   ]
  },
  {
   "cell_type": "markdown",
   "id": "cbbf2165",
   "metadata": {},
   "source": [
    "### Q1: Plot the training set and testing set."
   ]
  },
  {
   "cell_type": "code",
   "execution_count": 4,
   "id": "labeled-tunisia",
   "metadata": {},
   "outputs": [],
   "source": [
    "(x_train, y_train), (x_test, y_test) = create_data(n_train, n_test)"
   ]
  },
  {
   "cell_type": "code",
   "execution_count": 5,
   "id": "sharing-savannah",
   "metadata": {},
   "outputs": [
    {
     "data": {
      "image/png": "[encoded data removed]",
      "text/plain": [
       "<Figure size 360x432 with 2 Axes>"
      ]
     },
     "metadata": {
      "needs_background": "light"
     },
     "output_type": "display_data"
    }
   ],
   "source": [
    "f = plt.figure(figsize=(5, 6))\n",
    "ax0 = f.add_subplot(211)\n",
    "ax1 = f.add_subplot(212)\n",
    "\n",
    "\n",
    "ax0.plot(x_train, y_train, 'b.')\n",
    "ax0.set_title(\"Training data\")\n",
    "ax1.plot(x_test, y_test, 'b.')\n",
    "ax1.set_title(\"Test data\")\n",
    "f.tight_layout()"
   ]
  },
  {
   "cell_type": "markdown",
   "id": "ceramic-animal",
   "metadata": {},
   "source": [
    "### Q2: Create Polynomial features\n",
    "\n",
    "Create polynomial features of the type: $\\phi_j(x)=x^j$ for $j=0,...,m$ ."
   ]
  },
  {
   "cell_type": "code",
   "execution_count": 7,
   "id": "joint-convert",
   "metadata": {},
   "outputs": [],
   "source": [
    "max_degree = 10"
   ]
  },
  {
   "cell_type": "code",
   "execution_count": 6,
   "id": "quality-footage",
   "metadata": {},
   "outputs": [],
   "source": [
    "def polynomial_features(x, max_degree):\n",
    "    \"\"\"\n",
    "    Create an array of polynomial features $\\phi_j(x)=x^j$ for j=0,...,max_degree.\n",
    "    \n",
    "    Parameters:\n",
    "        - x (np.array): of size n.\n",
    "        - max_degree (int): the maximum degree of the polynomial features.\n",
    "    Returns:\n",
    "        - features (np.array): of shape (n, max_degree + 1).\n",
    "    \"\"\"\n",
    "    \n",
    "    list_features = []\n",
    "    for k in range(max_degree+1):\n",
    "        list_features.append(np.expand_dims(x**k, axis=1))\n",
    "    features = np.concatenate(list_features, axis=1)\n",
    "    \n",
    "    return features"
   ]
  },
  {
   "cell_type": "code",
   "execution_count": 9,
   "id": "solved-movie",
   "metadata": {},
   "outputs": [],
   "source": [
    "X_train = polynomial_features(x_train, max_degree)\n",
    "X_test = polynomial_features(x_test, max_degree)"
   ]
  },
  {
   "cell_type": "markdown",
   "id": "amber-wednesday",
   "metadata": {},
   "source": [
    "### Q3: Compute the parameters of the linear regression for the least square objective\n",
    "\n",
    "We want to find $w^* = \\underset{w}{\\operatorname{argmin}} \\Vert y - Xw \\Vert ^2 $\n",
    "\n",
    "[Solution: $w^* = (X^T X)^{-1} X^T y$ ]"
   ]
  },
  {
   "cell_type": "code",
   "execution_count": 13,
   "id": "executive-migration",
   "metadata": {},
   "outputs": [],
   "source": [
    "def compute_averaged_squared_error(X, y, w):\n",
    "    \"\"\"\n",
    "    Given the matrix of features, the parameters of the linear regression and the vector of targets,\n",
    "    returns the squared distance between the predictions and the ground truth.\n",
    "    \n",
    "    Parameters:\n",
    "        - X (np.array): polynomial features, of shape (n, max_degree + 1).\n",
    "        - y (np.array): target values, of shape (n,).\n",
    "        - w (np.array): parameters of the linear regression, of shape (max_degree + 1,).\n",
    "    Returns:\n",
    "        - error (float): the averaged squared distance between the predictions and the ground truth.\n",
    "    \"\"\"\n",
    "    y_hat = X @ w\n",
    "    n = len(y_hat)\n",
    "    error = np.linalg.norm(y - y_hat, 2)**2\n",
    "    \n",
    "    return error/n"
   ]
  },
  {
   "cell_type": "code",
   "execution_count": 12,
   "id": "surprising-press",
   "metadata": {},
   "outputs": [],
   "source": [
    "def fit_least_square(X, y):\n",
    "    \"\"\"\n",
    "    Compute the parameters of the linear regression using the polynomial features.\n",
    "    \n",
    "    Parameters:\n",
    "        - X (np.array): polynomial features, of shape (n, max_degree + 1).\n",
    "        - y (np.array): target values, of shape (n,).\n",
    "    Returns:\n",
    "        - w_star (np.array): parameters of the linear regression, of shape (max_degree + 1,).\n",
    "        - y_hat (np.array): predictions of the linear model, of shape (n,).\n",
    "    \"\"\"\n",
    "    \n",
    "    w = X.T @ X\n",
    "    w = np.linalg.pinv(w)\n",
    "    w = w @ X.T\n",
    "    w_star = w @ y\n",
    "    \n",
    "    y_hat = X @ w_star\n",
    "    \n",
    "    return w_star, y_hat"
   ]
  },
  {
   "cell_type": "code",
   "execution_count": 14,
   "id": "useful-fusion",
   "metadata": {},
   "outputs": [],
   "source": [
    "w, y_hat_train = fit_least_square(X_train, y_train)\n",
    "train_error = compute_averaged_squared_error(X_train, y_train, w)\n",
    "test_error = compute_averaged_squared_error(X_test, y_test, w)"
   ]
  },
  {
   "cell_type": "code",
   "execution_count": 17,
   "id": "finite-framing",
   "metadata": {},
   "outputs": [
    {
     "data": {
      "image/png": "[encoded data removed]",
      "text/plain": [
       "<Figure size 432x288 with 1 Axes>"
      ]
     },
     "metadata": {
      "needs_background": "light"
     },
     "output_type": "display_data"
    },
    {
     "name": "stdout",
     "output_type": "stream",
     "text": [
      "Train error:  0.0847\n",
      "Test error:  0.0882\n"
     ]
    }
   ],
   "source": [
    "plt.plot(x_train, y_train, 'b.', label='Training data')\n",
    "plt.plot(x_train, y_hat_train, 'r', label='Regression')\n",
    "plt.title('Least Squares Regression - $(\\phi_j(x) = x^j)_{j=0,...,m}$')\n",
    "plt.legend()\n",
    "plt.show()\n",
    "\n",
    "print(f'Train error: {train_error: .4f}')\n",
    "print(f'Test error: {test_error: .4f}')"
   ]
  },
  {
   "cell_type": "markdown",
   "id": "developed-nurse",
   "metadata": {},
   "source": [
    "### Q4: $l_2$ Regularization\n",
    "\n",
    "We want to find $w^* = \\underset{w}{\\operatorname{argmin}} \\Vert y - Xw \\Vert ^2 + \\mu \\Vert w \\Vert^2$\n",
    "\n",
    "[Solution: $w^* = (X^T X + \\mu I_d )^{-1} X^T y$ ]"
   ]
  },
  {
   "cell_type": "code",
   "execution_count": 15,
   "id": "intermediate-fleet",
   "metadata": {},
   "outputs": [],
   "source": [
    "def fit_regularized_least_square(X, y, mu):\n",
    "    \"\"\"\n",
    "    Compute the parameters of the linear regression with l2 regularization using the polynomial features.\n",
    "    \n",
    "    Parameters:\n",
    "        - X (np.array): polynomial features, of shape (n, max_degree + 1).\n",
    "        - y (np.array): target values, of shape (n,).\n",
    "        - mu (float): the l2 regularization parameter.\n",
    "    Returns:\n",
    "        - w (np.array): parameters of the regularized linear regression, of shape (max_degree + 1,).\n",
    "        - y_hat (np.array): predictions of the regularized linear model, of shape (n,).\n",
    "    \"\"\"\n",
    "    \n",
    "    w = X.T @ X\n",
    "    w = w + mu*np.eye(len(w))\n",
    "    w = np.linalg.pinv(w)\n",
    "    w = w @ X.T\n",
    "    w_star = w @ y\n",
    "\n",
    "    y_hat = X @ w_star\n",
    "    \n",
    "    return w_star, y_hat"
   ]
  },
  {
   "cell_type": "code",
   "execution_count": 19,
   "id": "consolidated-triangle",
   "metadata": {},
   "outputs": [],
   "source": [
    "w_reg, y_hat_train_reg = fit_regularized_least_square(X_train, y_train, mu=0.01)\n",
    "train_error_reg = compute_averaged_squared_error(X_train, y_train, w_reg)\n",
    "test_error_reg = compute_averaged_squared_error(X_test, y_test, w_reg)"
   ]
  },
  {
   "cell_type": "code",
   "execution_count": 21,
   "id": "official-aurora",
   "metadata": {},
   "outputs": [
    {
     "data": {
      "image/png": "[encoded data removed]",
      "text/plain": [
       "<Figure size 432x288 with 1 Axes>"
      ]
     },
     "metadata": {
      "needs_background": "light"
     },
     "output_type": "display_data"
    },
    {
     "name": "stdout",
     "output_type": "stream",
     "text": [
      "Train error:  0.0996\n",
      "Test error:  0.0927\n"
     ]
    }
   ],
   "source": [
    "plt.plot(x_train, y_train, 'b.', label='Training data')\n",
    "plt.plot(x_train, y_hat_train_reg, 'r', label='Regression')\n",
    "plt.title('Regularized Least Squares Regression - $(\\phi_j(x) = x^j)_{j=0,...,m}$')\n",
    "plt.legend()\n",
    "plt.show()\n",
    "\n",
    "print(f'Train error: {train_error_reg: .4f}')\n",
    "print(f'Test error: {test_error_reg: .4f}')"
   ]
  },
  {
   "cell_type": "markdown",
   "id": "integrated-margin",
   "metadata": {},
   "source": [
    "### Q5:  $k$-fold cross-validation to choose best parameter $\\mu$ \n",
    "\n",
    "In this part, we will use $k$-fold cross-validation to choose the best value of the parameter $\\mu$.\n",
    "For that, we will:\n",
    "* create a function that returns a list of $n$ indices randomly attributed to $k$ different lists.\n",
    "* create a function that iterate over those list of indices, take one to use for defining the validation set and use the other for training, fit a regularized linear model on the training set with a given value of $\\mu$, evaluate it on the validation set, and returns the average performance over all the splits.\n",
    "* create a function that returns the best value of $\\mu$ of a given list."
   ]
  },
  {
   "cell_type": "code",
   "execution_count": 25,
   "id": "alpine-houston",
   "metadata": {},
   "outputs": [],
   "source": [
    "def build_k_folds(n, k):\n",
    "    \"\"\"\n",
    "    Randomly splits the indices {0,1,...,n-1} in k different arrays.\n",
    "    \n",
    "    Parameters:\n",
    "        - n (int): size of the dataset to split.\n",
    "        - k (int): number of folds.\n",
    "    Returns:\n",
    "        - list_of_folds (list of arrays): list of k np.array containing the indices.\n",
    "    \"\"\"\n",
    "    \n",
    "    ids_all = np.random.permutation(np.arange(n))\n",
    "    size_folds = n//k\n",
    "    list_of_folds = []\n",
    "    for i in range(k-1):\n",
    "        list_of_folds.append(ids_all[i*size_folds:(i+1)*size_folds])\n",
    "    # for the last fold, take all the remaining data \n",
    "    # so that no data is unused in case n % k != 0\n",
    "    list_of_folds.append(ids_all[(k-1)*size_folds:])\n",
    "    \n",
    "    return list_of_folds"
   ]
  },
  {
   "cell_type": "code",
   "execution_count": 26,
   "id": "dress-sitting",
   "metadata": {},
   "outputs": [],
   "source": [
    "k_folds = build_k_folds(n_train, k=10)"
   ]
  },
  {
   "cell_type": "code",
   "execution_count": 27,
   "id": "powered-nightmare",
   "metadata": {},
   "outputs": [],
   "source": [
    "def evaluate_mu_on_k_folds(k_folds, X, y, mu):\n",
    "    \"\"\"\n",
    "    Iterate over the folds, take one set of indices to create the validation set,\n",
    "    use the remaining ones for the train set, fit the regularized model on the training set,\n",
    "    report the value of the error on the validation set, returns the average error value over the splits.\n",
    "    \n",
    "    Parameters:\n",
    "        - k_folds (list of arrays): list of k np.array containing the indices.\n",
    "        - X (np.array): polynomial features, of shape (n, max_degree + 1).\n",
    "        - y (np.array): target values, of shape (n,).\n",
    "        - mu (float): the l2 regularization parameter.\n",
    "    Returns:\n",
    "        - averaged_error (float): the average validation error over the k splits.\n",
    "    \"\"\"\n",
    "    list_of_errors = []\n",
    "    k = len(k_folds)\n",
    "    for i in range(k):\n",
    "        # create a copy of the list of the folds\n",
    "        ids_all = k_folds.copy()\n",
    "        # pop the ids of the validation set\n",
    "        ids_val = ids_all.pop(i)\n",
    "        # stitch together the ids of the training set\n",
    "        ids_train = np.concatenate(ids_all)\n",
    "        # gather the training and validation sets\n",
    "        X_val, y_val = X[ids_val], y[ids_val]\n",
    "        X_train, y_train = X[ids_train], y[ids_train]\n",
    "        # run the regularized least square on the training set\n",
    "        w_reg, y_hat_train_reg = fit_regularized_least_square(X_train, y_train, mu)\n",
    "        # compute the error on the validation set\n",
    "        val_error_reg = compute_averaged_squared_error(X_val, y_val, w_reg)\n",
    "        list_of_errors.append(val_error_reg)\n",
    "    return np.mean(list_of_errors)"
   ]
  },
  {
   "cell_type": "code",
   "execution_count": 28,
   "id": "rotary-humanity",
   "metadata": {},
   "outputs": [
    {
     "data": {
      "text/plain": [
       "0.08618088134580441"
      ]
     },
     "execution_count": 28,
     "metadata": {},
     "output_type": "execute_result"
    }
   ],
   "source": [
    "evaluate_mu_on_k_folds(k_folds, X_train, y_train, mu=0.00001)"
   ]
  },
  {
   "cell_type": "code",
   "execution_count": 29,
   "id": "suburban-football",
   "metadata": {},
   "outputs": [],
   "source": [
    "def grid_search(k_folds, X, y, list_of_mu_to_test):\n",
    "    \"\"\"\n",
    "    Given a list of parameter mu to test, returns the best performing one on the cross-validation procedure.\n",
    "    \n",
    "    Parameters:\n",
    "        - k_folds (list of arrays): list of k np.array containing the indices.\n",
    "        - X (np.array): polynomial features, of shape (n, max_degree + 1).\n",
    "        - y (np.array): target values, of shape (n,).\n",
    "        - list_of_mu_to_test (list of floats): list of mu to evaluate by cross-validation.\n",
    "    Returns:\n",
    "        - best_mu (float): the best performing value among the given list.\n",
    "    \"\"\"\n",
    "    \n",
    "    best_error = np.infty\n",
    "    list_of_errors = []\n",
    "    best_mu = None\n",
    "    \n",
    "    for mu in list_of_mu_to_test:\n",
    "        error = evaluate_mu_on_k_folds(k_folds, X, y, mu)\n",
    "        list_of_errors.append(error)\n",
    "        if error < best_error:\n",
    "            best_error = error\n",
    "            best_mu = mu\n",
    "    #print(list_of_errors)\n",
    "    return best_mu"
   ]
  },
  {
   "cell_type": "code",
   "execution_count": 22,
   "id": "infinite-athletics",
   "metadata": {},
   "outputs": [],
   "source": [
    "list_of_mu_to_test = [1, 1e-1, 1e-2, 1e-3, 1e-4, 5e-5, 2.5e-5, 1e-5, 7.5e-6, 5e-6, 1e-6, 1e-7, 1e-8, 1e-9, 1e-10, 1e-11, 0.0]"
   ]
  },
  {
   "cell_type": "code",
   "execution_count": 31,
   "id": "minute-denver",
   "metadata": {},
   "outputs": [
    {
     "data": {
      "text/plain": [
       "5e-06"
      ]
     },
     "execution_count": 31,
     "metadata": {},
     "output_type": "execute_result"
    }
   ],
   "source": [
    "grid_search(k_folds, X_train, y_train, list_of_mu_to_test)"
   ]
  },
  {
   "cell_type": "markdown",
   "id": "grateful-rugby",
   "metadata": {},
   "source": [
    "### BONUS: scaling law of the parameter $\\mu$: observe the dependency of $\\mu$ in the number of samples."
   ]
  },
  {
   "cell_type": "code",
   "execution_count": 24,
   "id": "remarkable-cherry",
   "metadata": {},
   "outputs": [],
   "source": [
    "def evolution_of_mu_with_n(list_of_n, list_of_mu_to_test, max_degree=10, k=5):\n",
    "    \"\"\"\n",
    "    Test different values of n_train and returns the evolution of the parameter mu with the dataset's size.\n",
    "    \n",
    "    Parameters:\n",
    "        - list_of_n (list of ints): the different dataset's size to test.\n",
    "        - list_of_mu_to_test (list of floats): list of mu to evaluate by cross-validation.\n",
    "        - max_degree (int): the maximum degree to consider for the polynomial features.\n",
    "        - k (int): number of folds in the cross-validation.\n",
    "    Returns:\n",
    "        - list_of_mu (list of floats): the different best values of mu for each dataset's size.\n",
    "    \"\"\"\n",
    "    \n",
    "    list_of_mu = []\n",
    "    \n",
    "    for n in list_of_n:\n",
    "        (x_train, y_train), (_, _) = create_data(n, 0)\n",
    "        X_train = polynomial_features(x_train, max_degree)\n",
    "        k_folds = build_k_folds(n, k)\n",
    "        mu_n = grid_search(k_folds, X_train, y_train, list_of_mu_to_test)\n",
    "        list_of_mu.append(mu_n)\n",
    "    \n",
    "    return list_of_mu"
   ]
  },
  {
   "cell_type": "code",
   "execution_count": 23,
   "id": "curious-snake",
   "metadata": {},
   "outputs": [
    {
     "ename": "NameError",
     "evalue": "name 'build_k_folds' is not defined",
     "output_type": "error",
     "traceback": [
      "\u001b[0;31m---------------------------------------------------------------------------\u001b[0m",
      "\u001b[0;31mNameError\u001b[0m                                 Traceback (most recent call last)",
      "\u001b[0;32m<ipython-input-23-c939adcaab61>\u001b[0m in \u001b[0;36m<module>\u001b[0;34m\u001b[0m\n\u001b[1;32m      1\u001b[0m \u001b[0mlist_of_n\u001b[0m \u001b[0;34m=\u001b[0m \u001b[0;34m[\u001b[0m\u001b[0;36m20\u001b[0m\u001b[0;34m,\u001b[0m \u001b[0;36m100\u001b[0m\u001b[0;34m,\u001b[0m \u001b[0;36m200\u001b[0m\u001b[0;34m,\u001b[0m \u001b[0;36m500\u001b[0m\u001b[0;34m,\u001b[0m \u001b[0;36m700\u001b[0m\u001b[0;34m,\u001b[0m \u001b[0;36m1000\u001b[0m\u001b[0;34m,\u001b[0m \u001b[0;36m2000\u001b[0m\u001b[0;34m,\u001b[0m \u001b[0;36m5000\u001b[0m\u001b[0;34m,\u001b[0m \u001b[0;36m7000\u001b[0m\u001b[0;34m,\u001b[0m \u001b[0;36m10000\u001b[0m\u001b[0;34m]\u001b[0m\u001b[0;34m\u001b[0m\u001b[0;34m\u001b[0m\u001b[0m\n\u001b[0;32m----> 2\u001b[0;31m \u001b[0mlist_of_mu\u001b[0m \u001b[0;34m=\u001b[0m \u001b[0mevolution_of_mu_with_n\u001b[0m\u001b[0;34m(\u001b[0m\u001b[0mlist_of_n\u001b[0m\u001b[0;34m,\u001b[0m \u001b[0mlist_of_mu_to_test\u001b[0m\u001b[0;34m,\u001b[0m \u001b[0mmax_degree\u001b[0m\u001b[0;34m=\u001b[0m\u001b[0;36m10\u001b[0m\u001b[0;34m,\u001b[0m \u001b[0mk\u001b[0m\u001b[0;34m=\u001b[0m\u001b[0;36m5\u001b[0m\u001b[0;34m)\u001b[0m\u001b[0;34m\u001b[0m\u001b[0;34m\u001b[0m\u001b[0m\n\u001b[0m",
      "\u001b[0;32m<ipython-input-16-0ad3e54f74c2>\u001b[0m in \u001b[0;36mevolution_of_mu_with_n\u001b[0;34m(list_of_n, list_of_mu_to_test, max_degree, k)\u001b[0m\n\u001b[1;32m     17\u001b[0m         \u001b[0;34m(\u001b[0m\u001b[0mx_train\u001b[0m\u001b[0;34m,\u001b[0m \u001b[0my_train\u001b[0m\u001b[0;34m)\u001b[0m\u001b[0;34m,\u001b[0m \u001b[0;34m(\u001b[0m\u001b[0m_\u001b[0m\u001b[0;34m,\u001b[0m \u001b[0m_\u001b[0m\u001b[0;34m)\u001b[0m \u001b[0;34m=\u001b[0m \u001b[0mcreate_data\u001b[0m\u001b[0;34m(\u001b[0m\u001b[0mn\u001b[0m\u001b[0;34m,\u001b[0m \u001b[0;36m0\u001b[0m\u001b[0;34m)\u001b[0m\u001b[0;34m\u001b[0m\u001b[0;34m\u001b[0m\u001b[0m\n\u001b[1;32m     18\u001b[0m         \u001b[0mX_train\u001b[0m \u001b[0;34m=\u001b[0m \u001b[0mpolynomial_features\u001b[0m\u001b[0;34m(\u001b[0m\u001b[0mx_train\u001b[0m\u001b[0;34m,\u001b[0m \u001b[0mmax_degree\u001b[0m\u001b[0;34m)\u001b[0m\u001b[0;34m\u001b[0m\u001b[0;34m\u001b[0m\u001b[0m\n\u001b[0;32m---> 19\u001b[0;31m         \u001b[0mk_folds\u001b[0m \u001b[0;34m=\u001b[0m \u001b[0mbuild_k_folds\u001b[0m\u001b[0;34m(\u001b[0m\u001b[0mn\u001b[0m\u001b[0;34m,\u001b[0m \u001b[0mk\u001b[0m\u001b[0;34m)\u001b[0m\u001b[0;34m\u001b[0m\u001b[0;34m\u001b[0m\u001b[0m\n\u001b[0m\u001b[1;32m     20\u001b[0m         \u001b[0mmu_n\u001b[0m \u001b[0;34m=\u001b[0m \u001b[0mgrid_search\u001b[0m\u001b[0;34m(\u001b[0m\u001b[0mk_folds\u001b[0m\u001b[0;34m,\u001b[0m \u001b[0mX_train\u001b[0m\u001b[0;34m,\u001b[0m \u001b[0my_train\u001b[0m\u001b[0;34m,\u001b[0m \u001b[0mlist_of_mu_to_test\u001b[0m\u001b[0;34m)\u001b[0m\u001b[0;34m\u001b[0m\u001b[0;34m\u001b[0m\u001b[0m\n\u001b[1;32m     21\u001b[0m         \u001b[0mlist_of_mu\u001b[0m\u001b[0;34m.\u001b[0m\u001b[0mappend\u001b[0m\u001b[0;34m(\u001b[0m\u001b[0mmu_n\u001b[0m\u001b[0;34m)\u001b[0m\u001b[0;34m\u001b[0m\u001b[0;34m\u001b[0m\u001b[0m\n",
      "\u001b[0;31mNameError\u001b[0m: name 'build_k_folds' is not defined"
     ]
    }
   ],
   "source": [
    "list_of_n = [20, 100, 200, 500, 700, 1000, 2000, 5000, 7000, 10000]\n",
    "list_of_mu = evolution_of_mu_with_n(list_of_n, list_of_mu_to_test, max_degree=10, k=5)"
   ]
  },
  {
   "cell_type": "code",
   "execution_count": 34,
   "id": "55a81a7d-201a-4a47-bc86-039ffa2ab2f9",
   "metadata": {},
   "outputs": [
    {
     "data": {
      "image/png": "[encoded data removed]",
      "text/plain": [
       "<Figure size 432x288 with 1 Axes>"
      ]
     },
     "metadata": {
      "needs_background": "light"
     },
     "output_type": "display_data"
    }
   ],
   "source": [
    "plt.plot(list_of_n, list_of_mu)\n",
    "plt.yscale('log')\n",
    "plt.title('Evolution of the best $\\mu$ with $n$.')\n",
    "plt.xlabel('$n$')\n",
    "plt.ylabel('$\\mu$')\n",
    "plt.show()"
   ]
  },
  {
   "cell_type": "code",
   "execution_count": 69,
   "id": "29a44249-6d48-49df-a5f5-294c80f3864c",
   "metadata": {},
   "outputs": [],
   "source": [
    "# Modif Maxime\n",
    "def evolution_of_mu_with_n(list_of_n, list_of_mu_to_test, max_degree=10):\n",
    "    \"\"\"\n",
    "    Test different values of n_train and returns the evolution of the parameter mu with the dataset's size.\n",
    "    \n",
    "    Parameters:\n",
    "        - list_of_n (list of ints): the different dataset's size to test.\n",
    "        - list_of_mu_to_test (list of floats): list of mu to evaluate by cross-validation.\n",
    "        - max_degree (int): the maximum degree to consider for the polynomial features.\n",
    "        - k (int): number of folds in the cross-validation.\n",
    "    Returns:\n",
    "        - list_of_mu (list of floats): the different best values of mu for each dataset's size.\n",
    "    \"\"\"\n",
    "    \n",
    "    list_of_mu = []\n",
    "    \n",
    "    (x_train0, y_train0), (x_test, y_test) = create_data(np.max(list_of_n), int(1e5))\n",
    "    X_train0 = polynomial_features(x_train0, max_degree)\n",
    "    X_test = polynomial_features(x_test, max_degree)\n",
    "    \n",
    "    for n in list_of_n:\n",
    "        X_train, y_train = X_train0[:n], y_train0[:n]\n",
    "        \n",
    "        best_error = np.infty\n",
    "        best_mu = None\n",
    "\n",
    "        for mu in list_of_mu_to_test:\n",
    "            w_reg, _ = fit_regularized_least_square(X_train, y_train, mu)\n",
    "            val_error_reg = compute_averaged_squared_error(X_test, y_test, w_reg)\n",
    "            if val_error_reg < best_error:\n",
    "                best_error = val_error_reg\n",
    "                best_mu = mu\n",
    "\n",
    "        list_of_mu.append(best_mu)\n",
    "    \n",
    "    return list_of_mu"
   ]
  },
  {
   "cell_type": "code",
   "execution_count": 70,
   "id": "ba120d0e-e55b-49d2-86e7-d529424af95a",
   "metadata": {},
   "outputs": [],
   "source": [
    "list_of_n = [20, 100, 200, 500, 700, 1000, 2000, 5000, 7000, 10000]\n",
    "list_of_mu = evolution_of_mu_with_n(list_of_n, list_of_mu_to_test, max_degree=10)"
   ]
  },
  {
   "cell_type": "code",
   "execution_count": 71,
   "id": "funny-brunei",
   "metadata": {},
   "outputs": [
    {
     "data": {
      "image/png": "[encoded data removed]",
      "text/plain": [
       "<Figure size 432x288 with 1 Axes>"
      ]
     },
     "metadata": {
      "needs_background": "light"
     },
     "output_type": "display_data"
    }
   ],
   "source": [
    "plt.plot(list_of_n, list_of_mu)\n",
    "plt.yscale('log')\n",
    "plt.title('Evolution of the best $\\mu$ with $n$.')\n",
    "plt.xlabel('$n$')\n",
    "plt.ylabel('$\\mu$')\n",
    "plt.show()"
   ]
  },
  {
   "cell_type": "code",
   "execution_count": 190,
   "id": "211e9312-0196-4ed9-ba75-5ea15a3fb625",
   "metadata": {},
   "outputs": [
    {
     "name": "stdout",
     "output_type": "stream",
     "text": [
      "[ 0.98503513 -0.74276259 -0.19058828]\n"
     ]
    }
   ],
   "source": [
    "max_degree=2\n",
    "list_coeff_star = 2*(2*np.random.uniform(size=max_degree+1)-1)\n",
    "print(list_coeff_star)\n",
    "p = np.poly1d(list_coeff_star)\n",
    "\n",
    "def create_dataD(n_train, n_test=10, sigma=0.5):\n",
    "    \"\"\"\n",
    "    Create 2 random datasets (train and test) from the same distribution.\n",
    "    Both are 2D point clouds with a uniform sampling of the segment [0,2) for the x axis,\n",
    "    the y axis being a \"sinusoide + affine function + gaussian noise\".\n",
    "    \n",
    "    Parameters:\n",
    "        - n_train (int): size of the training set.\n",
    "        - n_test (int): size of the test set.\n",
    "        - sigma (float): std of the gaussian noise used.\n",
    "    Returns:\n",
    "        - data_train (tuple): the training data, tuple of arrays (x_train, y_train) of size n_train.\n",
    "        - data_test (tuple): the test data, tuple of arrays (x_test, y_test) of size n_test.\n",
    "    \"\"\"\n",
    "    # sample the 1st coordinate uniformaly\n",
    "    x_train = np.random.uniform(0,1,n_train)\n",
    "    #x_train = np.sort(x_train)\n",
    "    x_test = np.linspace(0,1,num=n_test)\n",
    "    x_test = np.sort(x_test)\n",
    "    # additive gaussian noise\n",
    "    noise_train = sigma*np.random.randn(n_train)\n",
    "    noise_test = sigma*np.random.randn(n_test)\n",
    "    # sinusoide 2nd cooordinate\n",
    "    y_train = p(x_train)+ noise_train\n",
    "    y_test = p(x_test)+ noise_test\n",
    "    # add affine function\n",
    "    a , b = 0 , 0 \n",
    "    y_train = a*x_train + b + y_train\n",
    "    y_test = a*x_test + b + y_test\n",
    "    # concatenante the 2D data\n",
    "    data_train = (x_train, y_train)\n",
    "    data_test = (x_test, y_test)\n",
    "    \n",
    "    return data_train, data_test\n",
    "\n",
    "\n",
    "(x_train0, y_train0), (x_test, y_test) = create_dataD(np.max(list_of_n), int(1e5))\n",
    "\n",
    "list_coeff_starD = np.copy(list_coeff_star)\n",
    "for k in range(np.size(list_coeff_star)):\n",
    "    list_coeff_starD[np.size(list_coeff_star)-1-k] = list_coeff_star[k]"
   ]
  },
  {
   "cell_type": "code",
   "execution_count": 218,
   "id": "90e33eac-b24a-4fa0-b256-832574c3fff1",
   "metadata": {},
   "outputs": [],
   "source": [
    "\n",
    "\n",
    "# Modif Alain\n",
    "def evolution_of_mu_with_n(list_of_n, list_of_mu_to_test, monte_carlo_lambda):\n",
    "    \"\"\"\n",
    "    Test different values of n_train and returns the evolution of the parameter mu with the dataset's size.\n",
    "    \n",
    "    Parameters:\n",
    "        - list_of_n (list of ints): the different dataset's size to test.\n",
    "        - list_of_mu_to_test (list of floats): list of mu to evaluate by cross-validation.\n",
    "        - max_degree (int): the maximum degree to consider for the polynomial features.\n",
    "        - k (int): number of folds in the cross-validation.\n",
    "    Returns:\n",
    "        - list_of_mu (list of floats): the different best values of mu for each dataset's size.\n",
    "    \"\"\"\n",
    "    \n",
    "    list_of_mu = []\n",
    "    \n",
    "    I_list = np.arange(np.max(list_of_n)) #np.random.permutation(np.max(list_of_n))\n",
    "    mu_monte_carlo = 0\n",
    "    for n in list_of_n:\n",
    "        list_of_mu_monte_carlo = []\n",
    "        for i in range(monte_carlo_lambda):\n",
    "            \n",
    "            (x_train, y_train), (x_test, y_test) = create_dataD(n)\n",
    "            X_train = polynomial_features(x_train, max_degree)\n",
    "\n",
    "            best_error = np.infty\n",
    "            best_mu = None\n",
    "\n",
    "            for mu in list_of_mu_to_test:\n",
    "                w_reg, y_hat_train_reg0 = fit_regularized_least_square(X_train, y_train, mu)\n",
    "                val_error_reg = np.linalg.norm(w_reg-list_coeff_starD, 2)**2\n",
    "\n",
    "\n",
    "                if val_error_reg < best_error:\n",
    "                    #print(val_error_reg)\n",
    "\n",
    "                    best_error = val_error_reg\n",
    "                    best_mu = mu\n",
    "\n",
    "\n",
    "            list_of_mu_monte_carlo.append(best_mu)\n",
    "            \n",
    "        mean_lambda = np.mean(list_of_mu_monte_carlo)\n",
    "        list_of_mu.append(mean_lambda)\n",
    "                \n",
    "            #print(val_error_reg)\n",
    "        #print(w_reg)\n",
    "        #plt.plot(x_train, y_train, 'b.', label='Training data')\n",
    "        #plt.plot(x_train, y_hat_train_reg0, 'r.', label='Regression')\n",
    "                #plt.title('Least Squares Regression - $(\\phi_j(x) = x^j)_{j=0,...,m}$')\n",
    "                #plt.legend()\n",
    "        #plt.show()\n",
    "    \n",
    "    return list_of_mu"
   ]
  },
  {
   "cell_type": "code",
   "execution_count": null,
   "id": "25304777-c87b-4c75-bba6-f0fd7905655e",
   "metadata": {},
   "outputs": [],
   "source": []
  },
  {
   "cell_type": "code",
   "execution_count": 227,
   "id": "d5cdca9d-111b-483c-a4b6-cc536a401786",
   "metadata": {},
   "outputs": [
    {
     "data": {
      "image/png": "[encoded data removed]",
      "text/plain": [
       "<Figure size 432x288 with 1 Axes>"
      ]
     },
     "metadata": {
      "needs_background": "light"
     },
     "output_type": "display_data"
    }
   ],
   "source": [
    "monte_carlo_lambda = 1000\n",
    "list_of_n = np.linspace(10**1, 10**(4), num=20, dtype=int)\n",
    "list_of_mu_to_test= np.linspace(10**(0), 10**(-3), num=20)\n",
    "\n",
    "list_of_mu = evolution_of_mu_with_n(list_of_n, list_of_mu_to_test, monte_carlo_lambda)\n",
    "plt.plot(list_of_n, list_of_mu)\n",
    "plt.yscale('log')\n",
    "plt.title('Evolution of the best $\\mu$ with $n$.')\n",
    "plt.xlabel('$n$')\n",
    "plt.ylabel('$\\mu$')\n",
    "plt.show()"
   ]
  }
 ],
 "metadata": {
  "kernelspec": {
   "display_name": "Python 3 (ipykernel)",
   "language": "python",
   "name": "python3"
  },
  "language_info": {
   "codemirror_mode": {
    "name": "ipython",
    "version": 3
   },
   "file_extension": ".py",
   "mimetype": "text/x-python",
   "name": "python",
   "nbconvert_exporter": "python",
   "pygments_lexer": "ipython3",
   "version": "3.9.13"
  }
 },
 "nbformat": 4,
 "nbformat_minor": 5
}
